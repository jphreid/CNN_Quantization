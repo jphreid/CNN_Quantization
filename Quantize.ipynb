{
 "cells": [
  {
   "cell_type": "code",
   "execution_count": 1,
   "metadata": {},
   "outputs": [],
   "source": [
    "import matplotlib\n",
    "import matplotlib.pyplot as plt\n",
    "import matplotlib.mlab as mlab\n",
    "import matplotlib.image as mpimg\n",
    "import numpy as np\n",
    "import pickle\n",
    "import tensorflow as tf\n",
    "from tqdm import tqdm\n",
    "from __future__ import division\n",
    "import matplotlib.pyplot as plt"
   ]
  },
  {
   "cell_type": "code",
   "execution_count": 2,
   "metadata": {},
   "outputs": [],
   "source": [
    "def text_plot(ax_, string, alpha, color, fontsize):\n",
    "\tdelta = [(ax_.get_xlim()[1] - ax_.get_xlim()[0]), (ax_.get_ylim()[1] - ax_.get_ylim()[0])]\n",
    "\txt = alpha[0] * delta[0] + ax_.get_xlim()[0]\n",
    "\tyt = alpha[1] * delta[1] + ax_.get_ylim()[0]    \n",
    "\tax_.text(xt, yt, string, fontsize=fontsize,color=color)\n",
    "\n",
    "\n",
    "def loadNPZ(pathNPZ):\n",
    "    data = np.load(pathNPZ)\n",
    "    trainX = data['trainX']\n",
    "    trainY = data['trainY']\n",
    "    testX = data['testX']\n",
    "    testY = data['testY']\n",
    "    label = data['label']\n",
    "    \n",
    "    return trainX, trainY, testX, testY, label\n",
    "\n",
    "def S(bits):\n",
    "    return 2.0 ** (bits - 1)\n",
    "\n",
    "def Shift(x):\n",
    "    return 2 ** tf.round(tf.log(x) / tf.log(2.0))\n",
    "\n",
    "def Q(x, bits):\n",
    "    if bits > 15:\n",
    "        return x\n",
    "    elif bits == 1:  # BNN\n",
    "        return tf.sign(x)\n",
    "    else:\n",
    "        SCALE = S(bits)\n",
    "        return tf.round(x * SCALE) / SCALE\n",
    "    \n",
    "def C(x, bits=32):\n",
    "    if bits > 15 or bits == 1:\n",
    "        delta = 0.\n",
    "    else:\n",
    "        delta = 1. / S(bits)\n",
    "    MAX = +1 - delta\n",
    "    MIN = -1 + delta\n",
    "    x = tf.clip_by_value(x, MIN, MAX, name='saturate')\n",
    "    return x"
   ]
  },
  {
   "cell_type": "code",
   "execution_count": null,
   "metadata": {},
   "outputs": [],
   "source": []
  },
  {
   "cell_type": "code",
   "execution_count": null,
   "metadata": {},
   "outputs": [],
   "source": []
  },
  {
   "cell_type": "code",
   "execution_count": null,
   "metadata": {},
   "outputs": [],
   "source": []
  },
  {
   "cell_type": "code",
   "execution_count": 3,
   "metadata": {},
   "outputs": [],
   "source": [
    "def _arr(stride_or_ksize):\n",
    "    # data format NCHW\n",
    "    return [1, 1, stride_or_ksize, stride_or_ksize]\n",
    "\n",
    "def _get_variable(shape, name):\n",
    "    initializer = myInitializer.variance_scaling_initializer(\n",
    "      factor=1.0, mode='FAN_IN', uniform=True)\n",
    "    \n",
    "    with tf.name_scope(name) as scope:\n",
    "        W.append(tf.get_variable(name=name, shape=shape, initializer=initializer))\n",
    "\n",
    "        print('W:', W[-1].device, scope, shape,)\n",
    "        if Quantize.bitsW <= 16:\n",
    "            # manually clip and quantize W if needed\n",
    "            W_q_op.append(tf.assign(W[-1], Quantize.Q(W[-1], Quantize.bitsW)))\n",
    "            W_clip_op.append(tf.assign(W[-1],Quantize.C(W[-1],Quantize.bitsW)))\n",
    "            scale = Option.W_scale[len(W)-1]\n",
    "            print('Scale:%d' % scale)\n",
    "            W_q.append(Quantize.W(W[-1], scale))\n",
    "            return W_q[-1]\n",
    "        else:\n",
    "            print('')\n",
    "            return W[-1]\n",
    "\n",
    "    \n",
    "def W(x, bitsW, scale = 1.0):\n",
    "\twith tf.name_scope('QW'):\n",
    "\t\ty = Q(C(x, bitsW), bitsW)\n",
    "\t\t# we scale W in QW rather than QA for simplicity\n",
    "\t\tif scale > 1.8:\n",
    "\t\t\ty = y/scale\n",
    "\t\t# if bitsG > 15:\n",
    "\t\t# when not quantize gradient, we should rescale the scale factor in backprop\n",
    "\t\t# otherwise the learning rate will have decay factor scale\n",
    "\t\t# x = x * scale\n",
    "\treturn x + tf.stop_gradient(y - x)  # skip derivation of Quantize and Clip\n",
    "\n",
    "def A(x, bitsA):\n",
    "\twith tf.name_scope('QA'):\n",
    "\t\tx = C(x, bitsA)\n",
    "\t\ty = Q(x, bitsA)\n",
    "\treturn x + tf.stop_gradient(y - x)  # skip derivation of Quantize, but keep Clip\n",
    "\n",
    "def G(x, LR, bitsG):\n",
    "\tbitsR = 16    \n",
    "\twith tf.name_scope('QG'):\n",
    "\t\tif bitsG > 15:\n",
    "\t\t\treturn x\n",
    "\t\telse:\n",
    "\t\t\tif x.name.lower().find('batchnorm') > -1:\n",
    "\t\t\t\treturn x  # batch norm parameters, not quantize now\n",
    "\n",
    "\t\t\txmax = tf.reduce_max(tf.abs(x))\n",
    "\t\t\tx = x / Shift(xmax)\n",
    "\n",
    "\t\t\tnorm = Q(LR * x, bitsR)\n",
    "\t\t\tnorm_sign = tf.sign(norm)\n",
    "\t\t\tnorm_abs = tf.abs(norm)\n",
    "\t\t\tnorm_int = tf.floor(norm_abs)\n",
    "\t\t\tnorm_float = norm_abs - norm_int\n",
    "\t\t\trand_float = tf.random_uniform(x.get_shape(), 0, 1)\n",
    "\t\t\tnorm = norm_sign * ( norm_int + 0.5 * (tf.sign(norm_float - rand_float) + 1) )\n",
    "\n",
    "\t\treturn norm / S(bitsG)\n",
    "\n",
    "\n",
    "# @tf.RegisterGradient('Error')\n",
    "# def error(op, x):\n",
    "# \tif bitsE > 15:\n",
    "# \t\treturn x\n",
    "# \telse:\n",
    "# \t\txmax = tf.reduce_max(tf.abs(x))\n",
    "# \t\txmax_shift = Shift(xmax) # gamma = /8\n",
    "# \t\treturn Q(C( x /xmax_shift, bitsE), bitsE)\n",
    "\n",
    "# def E(x):\n",
    "# \twith tf.name_scope('QE'):\n",
    "# \t\twith Graph.gradient_override_map({'Identity': 'Error'}):\n",
    "# \t\t\treturn tf.identity(x)"
   ]
  },
  {
   "cell_type": "code",
   "execution_count": 4,
   "metadata": {},
   "outputs": [],
   "source": [
    "dataSet = 'CIFAR10'\n",
    "pathNPZ = 'dataSet/' + dataSet + '.npz'\n",
    "numpyTrainX, numpyTrainY, numpyTestX, numpyTestY, label = loadNPZ(pathNPZ)"
   ]
  },
  {
   "cell_type": "code",
   "execution_count": 5,
   "metadata": {},
   "outputs": [
    {
     "data": {
      "image/png": "[encoded data removed]",
      "text/plain": [
       "<matplotlib.figure.Figure at 0x1141405f8>"
      ]
     },
     "metadata": {},
     "output_type": "display_data"
    }
   ],
   "source": [
    "img = numpyTrainX[12]\n",
    "# X = X / 127.5 - 1\n",
    "plt.imshow(img)\n",
    "plt.axis('off')\n",
    "plt.title('Lovely horse ($x$)', fontsize=14)\n",
    "imgs = img / 127.5 - 1"
   ]
  },
  {
   "cell_type": "code",
   "execution_count": 6,
   "metadata": {},
   "outputs": [
    {
     "data": {
      "image/png": "[encoded data removed]",
      "text/plain": [
       "<matplotlib.figure.Figure at 0x1141f7198>"
      ]
     },
     "metadata": {},
     "output_type": "display_data"
    }
   ],
   "source": [
    "with tf.Session():\n",
    "    imgsQA = A(imgs, 8).eval()\n",
    "\n",
    "imgsQA = np.array(imgsQA)\n",
    "plt.imshow((imgsQA+1)*127.5)\n",
    "plt.axis('off')\n",
    "plt.title('$Q_a(x)$', fontsize=14)\n",
    "plt.show()\n"
   ]
  },
  {
   "cell_type": "code",
   "execution_count": 7,
   "metadata": {},
   "outputs": [
    {
     "name": "stdout",
     "output_type": "stream",
     "text": [
      "Standard deviations\n",
      "===================\n",
      "w = 0.444157\n",
      "w_q = 0.414578\n"
     ]
    },
    {
     "data": {
      "image/png": "[encoded data removed]",
      "text/plain": [
       "<matplotlib.figure.Figure at 0x115a02c18>"
      ]
     },
     "metadata": {},
     "output_type": "display_data"
    }
   ],
   "source": [
    "fig, (ax1, ax2, ax3) = plt.subplots(1, 3,figsize=(14,5))\n",
    "\n",
    "c_in = 32\n",
    "L_min = 1.5 / S(2)\n",
    "\n",
    "L = np.max((np.sqrt(6/(c_in)), L_min))\n",
    "\n",
    "w =  np.random.uniform(-L,L,100)\n",
    "with tf.Session():\n",
    "    wq = Q(C(w, 2),2).eval()\n",
    "\n",
    "n, bins, patches = ax1.hist(w, bins=40, normed=1, facecolor='grey', alpha=0.8)\n",
    "n, bins, patches = ax1.hist(wq, bins=40, normed=1, facecolor='blue', alpha=0.8)\n",
    "\n",
    "print('Standard deviations')\n",
    "print('===================')\n",
    "print('w = {:4f}'.format(np.std(w)))\n",
    "print('w_q = {:4f}'.format(np.std(wq)))\n",
    "\n",
    "############\n",
    "\n",
    "c_in = 32\n",
    "L_min = 0.5 / S(2)\n",
    "L = np.max((np.sqrt(6/(c_in)), L_min))\n",
    "w =  np.random.uniform(-L,L,100)\n",
    "with tf.Session():\n",
    "    wq = Q(C(w, 2),2).eval()\n",
    "\n",
    "n, bins, patches = ax2.hist(w, bins=40, normed=1, facecolor='grey', alpha=0.8)\n",
    "n, bins, patches = ax2.hist(wq, bins=40, normed=1, facecolor='blue', alpha=0.8)\n",
    "\n",
    "############\n",
    "\n",
    "c_in = 128\n",
    "L_min = 1.5 / S(2)\n",
    "L = np.max((np.sqrt(6/(c_in))))\n",
    "w =  np.random.uniform(-L,L,100)\n",
    "with tf.Session():\n",
    "    wq = Q(C(w, 2),2).eval()\n",
    "\n",
    "n, bins, patches = ax3.hist(w, bins=40, normed=1, facecolor='grey', alpha=0.8)\n",
    "n, bins, patches = ax3.hist(wq, bins=40, normed=1, facecolor='blue', alpha=0.8)\n",
    "\n",
    "ax3.legend(('$W \\sim U(-L, L)$', '$W_q = Q(W, k_w = 2)$'), bbox_to_anchor=(1.04,1))\n",
    "# ax3.legend(bbox_to_anchor=(1.04,1))\n",
    "ax1.set_xlabel('$W, W_q$')\n",
    "ax2.set_xlabel('$W, W_q$')\n",
    "ax3.set_xlabel('$W, W_q$')\n",
    "ax1.set_ylabel('density')\n",
    "ax1.set_title('$\\\\beta = 1.5$, $c_{in} = 32$, $k_w = 2$' )\n",
    "ax2.set_title('$\\\\beta = 0.5$, $c_{in} = 32$, $k_w = 2$' )\n",
    "ax3.set_title('$c_{in} = 128$, $k_w = 2$' )\n",
    "\n",
    "ax1.set_xlim((-1, 1))\n",
    "ax2.set_xlim((-0.6, 0.6))\n",
    "ax3.set_xlim((-0.25, 0.25))\n",
    "\n",
    "axis = [ax1, ax2, ax3]\n",
    "strings = ['(a)', '(b)', '(c)']\n",
    "for i, (ax, string) in enumerate(zip(axis, strings)):\n",
    "    text_plot(ax, string, [0.1, 0.9], 'k', fontsize=14)\n",
    "    for item in ([ax.title, ax.xaxis.label, ax.yaxis.label] + ax.get_xticklabels() + ax.get_yticklabels()):\n",
    "        item.set_fontsize(14)\n",
    "\n",
    "\n",
    "\n",
    "\n",
    "    \n",
    "plt.show()\n",
    "fig.savefig('figures/Qw.pdf', bbox_inches='tight')"
   ]
  },
  {
   "cell_type": "code",
   "execution_count": null,
   "metadata": {},
   "outputs": [],
   "source": []
  },
  {
   "cell_type": "code",
   "execution_count": null,
   "metadata": {},
   "outputs": [],
   "source": []
  },
  {
   "cell_type": "code",
   "execution_count": null,
   "metadata": {},
   "outputs": [],
   "source": []
  },
  {
   "cell_type": "code",
   "execution_count": null,
   "metadata": {},
   "outputs": [],
   "source": []
  }
 ],
 "metadata": {
  "kernelspec": {
   "display_name": "Python 3",
   "language": "python",
   "name": "python3"
  },
  "language_info": {
   "codemirror_mode": {
    "name": "ipython",
    "version": 3
   },
   "file_extension": ".py",
   "mimetype": "text/x-python",
   "name": "python",
   "nbconvert_exporter": "python",
   "pygments_lexer": "ipython3",
   "version": "3.6.4"
  }
 },
 "nbformat": 4,
 "nbformat_minor": 2
}
